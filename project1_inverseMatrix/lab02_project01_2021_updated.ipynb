{
 "cells": [
  {
   "cell_type": "markdown",
   "metadata": {},
   "source": [
    "# <center>Ma trận trong Python</center>"
   ]
  },
  {
   "cell_type": "markdown",
   "metadata": {},
   "source": [
    "## Mục lục\n",
    "* [Thực hành](#c1)\n",
    "    * [Khai báo ma trận](#c11)\n",
    "    * [Các phép toán cơ bản trên ma trận](#c12)\n",
    "    * [Định thức](#c13)\n",
    "    * [Nghịch đảo ma trận](#c14)\n",
    "* [Đồ án 1](#c2)\n",
    "    * [Nội dung đồ án](#c21)\n",
    "    * [Quy định nộp bài](#c22)\n",
    "    * [Quy định chấm bài](#c23)"
   ]
  },
  {
   "cell_type": "markdown",
   "metadata": {},
   "source": [
    "## Thực hành <a class=\"anchor\" id=\"c1\"></a>"
   ]
  },
  {
   "cell_type": "markdown",
   "metadata": {},
   "source": [
    "Trong bài lab này, chúng ta sẽ đồng thời sử dụng `list` và  `NumPy` để thực hiện các phép toán trên ma trận.\n",
    "\n",
    "Trong đó, sử dụng `list` để thực hiện các phép toán bằng code thủ công; sử dụng `NumPy` để gọi các hàm có sẵn trong thư viện."
   ]
  },
  {
   "cell_type": "code",
   "execution_count": 1,
   "metadata": {},
   "outputs": [],
   "source": [
    "import numpy as np\n",
    "\n",
    "def my_print(x, sep=\" \"):\n",
    "    if isinstance(x, list) and x:\n",
    "        if isinstance(x[0], list): # list of list\n",
    "            m, n = len(x), len(x[0])\n",
    "            widths = [max(len(str(ai[j])) for ai in x) for j in range(n)]\n",
    "            rows = [sep.join(format(str(ai[j]), f\">{widths[j]}\") for j in range(n)) for ai in x]\n",
    "            print(\"[\" + \"\\n\".join((\" [\" if i > 0 else \"[\") + rows[i] + \"]\" for i in range(m)) + \"]\")\n",
    "        else: # list\n",
    "            print(\"[\" + sep.join(str(e) for e in x) + \"]\")\n",
    "    else:\n",
    "        print(x)"
   ]
  },
  {
   "cell_type": "markdown",
   "metadata": {},
   "source": [
    "### Khai báo ma trận <a class=\"anchor\" id=\"c11\"></a>"
   ]
  },
  {
   "cell_type": "markdown",
   "metadata": {},
   "source": [
    "Trong Python, ma trận có thể biểu diễn bằng kiểu dữ liệu `list` (`list` of `list`) hoặc mảng NumPy 2 chiều (`np.array`). Giả sử với ma trận:\n",
    "$$A = \\begin{bmatrix}\n",
    "    1   & 1.5 & -1.2\\\\ \n",
    "    2   & 3.7 & 8\\\\ \n",
    "    3.5 & 2.5 & 4\n",
    "    \\end{bmatrix}$$\n",
    "\n",
    "Ta có thể biểu diễn bằng kiểu dữ liệu `list` như sau:"
   ]
  },
  {
   "cell_type": "code",
   "execution_count": 2,
   "metadata": {},
   "outputs": [
    {
     "name": "stdout",
     "output_type": "stream",
     "text": [
      "- The number of rows: 3\n",
      "- The number of columns: 3\n",
      "[[  1 1.5 -1.2]\n",
      " [  2 3.7    8]\n",
      " [3.5 2.5    4]]\n"
     ]
    }
   ],
   "source": [
    "A_list = [[1, 1.5, -1.2],\n",
    "          [2, 3.7, 8],\n",
    "          [3.5, 2.5, 4]]\n",
    "\n",
    "print(f'- The number of rows: {len(A_list)}\\n- The number of columns: {len(A_list[0])}')\n",
    "my_print(A_list)"
   ]
  },
  {
   "cell_type": "markdown",
   "metadata": {},
   "source": [
    "Và có thể biểu diễn trong NumPy như sau:"
   ]
  },
  {
   "cell_type": "code",
   "execution_count": 3,
   "metadata": {},
   "outputs": [
    {
     "name": "stdout",
     "output_type": "stream",
     "text": [
      "- The number of rows: 3\n",
      "- The number of cols: 3\n",
      "[[ 1.   1.5 -1.2]\n",
      " [ 2.   3.7  8. ]\n",
      " [ 3.5  2.5  4. ]]\n"
     ]
    }
   ],
   "source": [
    "A_np = np.array(A_list)\n",
    "\n",
    "print(f'- The number of rows: {A_np.shape[0]}\\n- The number of cols: {A_np.shape[1]}')\n",
    "print(A_np)"
   ]
  },
  {
   "cell_type": "markdown",
   "metadata": {},
   "source": [
    "#### Khởi tạo ma trận toàn 0"
   ]
  },
  {
   "cell_type": "markdown",
   "metadata": {},
   "source": [
    "##### Trên `list` "
   ]
  },
  {
   "cell_type": "code",
   "execution_count": 4,
   "metadata": {},
   "outputs": [],
   "source": [
    "def create_zero_matrix(n_row, n_col):\n",
    "    return [[0 for _ in range(n_col)] for _ in range(n_row)]"
   ]
  },
  {
   "cell_type": "code",
   "execution_count": 5,
   "metadata": {},
   "outputs": [
    {
     "name": "stdout",
     "output_type": "stream",
     "text": [
      "[[0 0 0]\n",
      " [0 0 0]\n",
      " [0 0 0]]\n"
     ]
    }
   ],
   "source": [
    "my_print(create_zero_matrix(3, 3))"
   ]
  },
  {
   "cell_type": "markdown",
   "metadata": {},
   "source": [
    "##### Trên `NumPy`"
   ]
  },
  {
   "cell_type": "code",
   "execution_count": 6,
   "metadata": {},
   "outputs": [
    {
     "data": {
      "text/plain": [
       "array([[0., 0., 0.],\n",
       "       [0., 0., 0.],\n",
       "       [0., 0., 0.]])"
      ]
     },
     "execution_count": 6,
     "metadata": {},
     "output_type": "execute_result"
    }
   ],
   "source": [
    "np.zeros((3, 3))"
   ]
  },
  {
   "cell_type": "markdown",
   "metadata": {},
   "source": [
    "#### Khai báo ma trận toàn 1"
   ]
  },
  {
   "cell_type": "code",
   "execution_count": null,
   "metadata": {},
   "outputs": [],
   "source": [
    "### YOUR CODE HERE"
   ]
  },
  {
   "cell_type": "markdown",
   "metadata": {},
   "source": [
    "#### Khai báo ma trận đơn vị"
   ]
  },
  {
   "cell_type": "markdown",
   "metadata": {},
   "source": [
    "##### Trên `list`"
   ]
  },
  {
   "cell_type": "code",
   "execution_count": 7,
   "metadata": {},
   "outputs": [],
   "source": [
    "def create_identity_matrix(n):\n",
    "    return [[1 if i == j else 0 for j in range(n)] for i in range(n)]"
   ]
  },
  {
   "cell_type": "code",
   "execution_count": 8,
   "metadata": {
    "scrolled": true
   },
   "outputs": [
    {
     "name": "stdout",
     "output_type": "stream",
     "text": [
      "[[1 0 0]\n",
      " [0 1 0]\n",
      " [0 0 1]]\n"
     ]
    }
   ],
   "source": [
    "my_print(create_identity_matrix(3))"
   ]
  },
  {
   "cell_type": "markdown",
   "metadata": {},
   "source": [
    "##### Trên `NumPy`"
   ]
  },
  {
   "cell_type": "code",
   "execution_count": 9,
   "metadata": {},
   "outputs": [
    {
     "name": "stdout",
     "output_type": "stream",
     "text": [
      "[[1. 0. 0.]\n",
      " [0. 1. 0.]\n",
      " [0. 0. 1.]]\n"
     ]
    }
   ],
   "source": [
    "my_print(np.eye(3))"
   ]
  },
  {
   "cell_type": "markdown",
   "metadata": {},
   "source": [
    "### Các phép toán cơ bản trên ma trận <a class=\"anchor\" id=\"c12\"></a>"
   ]
  },
  {
   "cell_type": "markdown",
   "metadata": {},
   "source": [
    "#### Nhân số với ma trận"
   ]
  },
  {
   "cell_type": "code",
   "execution_count": 10,
   "metadata": {},
   "outputs": [],
   "source": [
    "def multiply_scalar_matrix(scalar, A_list):\n",
    "    return [[scalar * a for a in a_row] for a_row in A_list]"
   ]
  },
  {
   "cell_type": "code",
   "execution_count": 11,
   "metadata": {
    "scrolled": false
   },
   "outputs": [
    {
     "name": "stdout",
     "output_type": "stream",
     "text": [
      "[[  2 3.0 -2.4]\n",
      " [  4 7.4   16]\n",
      " [7.0 5.0    8]]\n"
     ]
    }
   ],
   "source": [
    "my_print(multiply_scalar_matrix(2, A_list))"
   ]
  },
  {
   "cell_type": "markdown",
   "metadata": {},
   "source": [
    "#### Cộng ma trận"
   ]
  },
  {
   "cell_type": "markdown",
   "metadata": {},
   "source": [
    "##### Cộng ma trận với ma trận"
   ]
  },
  {
   "cell_type": "markdown",
   "metadata": {},
   "source": [
    "###### Thực hiện trên `A_list` (cách làm thủ công)"
   ]
  },
  {
   "cell_type": "code",
   "execution_count": 14,
   "metadata": {},
   "outputs": [],
   "source": [
    "def add_matrix_list(A_list, B_list):\n",
    "#     # Cách 1: Cơ bản\n",
    "#     # Khởi tạo ma trận kết quả\n",
    "#     C_list = [[0 for _ in range(len(A_list[0]))] for _ in range(len(A_list))]\n",
    "\n",
    "#     m_row = len(A_list)\n",
    "#     n_col = len(A_list[0])\n",
    "#     for i_row in range(m_row):\n",
    "#         for i_col in range(n_col):\n",
    "#             C_list[i_row][i_col] = A_list[i_row][i_col] + B_list[i_row][i_col]\n",
    "     \n",
    "    \n",
    "    # Cách 2: List Comprehension\n",
    "    C_list = [[a + b for (a, b) in zip(a_row, b_row)] for (a_row, b_row) in zip(A_list, B_list)]   \n",
    "    \n",
    "    return C_list"
   ]
  },
  {
   "cell_type": "code",
   "execution_count": 15,
   "metadata": {
    "scrolled": true
   },
   "outputs": [
    {
     "name": "stdout",
     "output_type": "stream",
     "text": [
      "[[  1 1.5 -1.2]\n",
      " [  2 3.7    8]\n",
      " [3.5 2.5    4]]\n",
      "\n",
      "[[  2 1.5  1.2]\n",
      " [  3   7 -9.5]\n",
      " [5.5   2    4]]\n",
      "\n",
      "[[  3  3.0  0.0]\n",
      " [  5 10.7 -1.5]\n",
      " [9.0  4.5    8]]\n"
     ]
    }
   ],
   "source": [
    "# Tạo ra ma trận cần cộng\n",
    "B_list = [[2, 1.5, 1.2],\n",
    "          [3, 7, -9.5],\n",
    "          [5.5, 2, 4]]\n",
    "\n",
    "my_print(A_list)\n",
    "print()\n",
    "my_print(B_list)\n",
    "print()\n",
    "\n",
    "my_print(add_matrix_list(A_list, B_list))"
   ]
  },
  {
   "cell_type": "markdown",
   "metadata": {},
   "source": [
    "###### Thực hiện trên `A_np` (sử dụng hàm của thư viện `NumPy`)"
   ]
  },
  {
   "cell_type": "code",
   "execution_count": 16,
   "metadata": {},
   "outputs": [
    {
     "name": "stdout",
     "output_type": "stream",
     "text": [
      "[[ 3.   3.   0. ]\n",
      " [ 5.  10.7 -1.5]\n",
      " [ 9.   4.5  8. ]]\n"
     ]
    }
   ],
   "source": [
    "B_np = np.array(B_list)\n",
    "\n",
    "print(A_np + B_np)"
   ]
  },
  {
   "cell_type": "markdown",
   "metadata": {},
   "source": [
    "##### Cộng ma trận với 1 số"
   ]
  },
  {
   "cell_type": "code",
   "execution_count": null,
   "metadata": {},
   "outputs": [],
   "source": [
    "### YOUR CODE HERE"
   ]
  },
  {
   "cell_type": "markdown",
   "metadata": {},
   "source": [
    "#### Trừ, nhân, chia các phần tử tương ứng của 2 ma trận"
   ]
  },
  {
   "cell_type": "markdown",
   "metadata": {},
   "source": [
    "Tương tự với cộng 2 ma trận, các phép toán còn lại tương tự."
   ]
  },
  {
   "cell_type": "markdown",
   "metadata": {},
   "source": [
    "##### Trên `A_list`"
   ]
  },
  {
   "cell_type": "code",
   "execution_count": 18,
   "metadata": {},
   "outputs": [],
   "source": [
    "def op_matrix_list(A_list, B_list, op):\n",
    "    if op == '+':\n",
    "        return [[a + b for (a, b) in zip(a_row, b_row)] for (a_row, b_row) in zip(A_list, B_list)]\n",
    "    elif op == '-':\n",
    "        return [[a - b for (a, b) in zip(a_row, b_row)] for (a_row, b_row) in zip(A_list, B_list)]\n",
    "    elif op == '*': # element-wise\n",
    "        return [[a * b for (a, b) in zip(a_row, b_row)] for (a_row, b_row) in zip(A_list, B_list)]\n",
    "    elif op == '/': # element-wise\n",
    "        return [[a / b for (a, b) in zip(a_row, b_row)] for (a_row, b_row) in zip(A_list, B_list)]\n",
    "    else:\n",
    "        raise ValueError(f'Can\\'t understand operator {op}')"
   ]
  },
  {
   "cell_type": "code",
   "execution_count": 19,
   "metadata": {},
   "outputs": [
    {
     "name": "stdout",
     "output_type": "stream",
     "text": [
      "Subtraction of Matrices:\n",
      "[[  -1  0.0 -2.4]\n",
      " [  -1 -3.3 17.5]\n",
      " [-2.0  0.5    0]]\n",
      "\n",
      "Element-Wise Multiplication of Matrices:\n",
      "[[    2               2.25 -1.44]\n",
      " [    6 25.900000000000002 -76.0]\n",
      " [19.25                5.0    16]]\n",
      "\n",
      "Element-Wise Division of Matrices:\n",
      "[[               0.5                1.0                -1.0]\n",
      " [0.6666666666666666 0.5285714285714286 -0.8421052631578947]\n",
      " [0.6363636363636364               1.25                 1.0]]\n"
     ]
    }
   ],
   "source": [
    "print('Subtraction of Matrices:')\n",
    "my_print(op_matrix_list(A_list, B_list, '-'))\n",
    "\n",
    "print('\\nElement-Wise Multiplication of Matrices:')\n",
    "my_print(op_matrix_list(A_list, B_list, '*'))\n",
    "\n",
    "print('\\nElement-Wise Division of Matrices:') \n",
    "my_print(op_matrix_list(A_list, B_list, '/'))"
   ]
  },
  {
   "cell_type": "markdown",
   "metadata": {},
   "source": [
    "##### Trên `A_np`"
   ]
  },
  {
   "cell_type": "code",
   "execution_count": 20,
   "metadata": {},
   "outputs": [
    {
     "name": "stdout",
     "output_type": "stream",
     "text": [
      "Subtraction of Matrices: \n",
      " [[-1.   0.  -2.4]\n",
      " [-1.  -3.3 17.5]\n",
      " [-2.   0.5  0. ]]\n",
      "\n",
      "Element-Wise Multiplication of Matrices: \n",
      " [[  2.     2.25  -1.44]\n",
      " [  6.    25.9  -76.  ]\n",
      " [ 19.25   5.    16.  ]]\n",
      "\n",
      "Element-Wise Division of Matrices: \n",
      " [[ 0.5         1.         -1.        ]\n",
      " [ 0.66666667  0.52857143 -0.84210526]\n",
      " [ 0.63636364  1.25        1.        ]]\n"
     ]
    }
   ],
   "source": [
    "print('Subtraction of Matrices: \\n', A_np - B_np)\n",
    "print('\\nElement-Wise Multiplication of Matrices: \\n', A_np * B_np)\n",
    "print('\\nElement-Wise Division of Matrices: \\n', A_np / B_np)"
   ]
  },
  {
   "cell_type": "markdown",
   "metadata": {},
   "source": [
    "#### Nhân 2 ma trận"
   ]
  },
  {
   "cell_type": "markdown",
   "metadata": {},
   "source": [
    "##### Trên `A_list`"
   ]
  },
  {
   "cell_type": "code",
   "execution_count": 21,
   "metadata": {},
   "outputs": [],
   "source": [
    "def multiply_matrix(A_list, B_list):\n",
    "    m_row = len(A_list)\n",
    "    n_col = len(B_list[0])\n",
    "    \n",
    "    # Khởi tạo ma trận kết quả\n",
    "    C_list = [[0 for _ in range(n_col)] for _ in range(m_row)]\n",
    "\n",
    "    for i_row in range(m_row):\n",
    "        for i_col in range(n_col):\n",
    "            total = 0\n",
    "            for i,a in enumerate(A_list[i_row]):  # Duyệt qua từng phần tử trong dòng thứ i_row (A_list)\n",
    "                total += a*B_list[i][i_col]       # Nhân từng phần tử với phân tử thứ i trong cột thứ i_col (B_list)\n",
    "            C_list[i_row][i_col] = total\n",
    "\n",
    "    return C_list"
   ]
  },
  {
   "cell_type": "code",
   "execution_count": 23,
   "metadata": {},
   "outputs": [
    {
     "data": {
      "text/plain": [
       "[[-0.09999999999999964, 9.6, -17.85],\n",
       " [59.1, 44.900000000000006, -0.75],\n",
       " [36.5, 30.75, -3.5500000000000007]]"
      ]
     },
     "execution_count": 23,
     "metadata": {},
     "output_type": "execute_result"
    }
   ],
   "source": [
    "multiply_matrix(A_list, B_list)"
   ]
  },
  {
   "cell_type": "markdown",
   "metadata": {},
   "source": [
    "##### Trên `A_np`"
   ]
  },
  {
   "cell_type": "code",
   "execution_count": 24,
   "metadata": {},
   "outputs": [
    {
     "data": {
      "text/plain": [
       "array([[ -0.1 ,   9.6 , -17.85],\n",
       "       [ 59.1 ,  44.9 ,  -0.75],\n",
       "       [ 36.5 ,  30.75,  -3.55]])"
      ]
     },
     "execution_count": 24,
     "metadata": {},
     "output_type": "execute_result"
    }
   ],
   "source": [
    "A_np @ B_np # np.matmul(A_np, B_np)"
   ]
  },
  {
   "cell_type": "markdown",
   "metadata": {},
   "source": [
    "#### Chuyển vị ma trận"
   ]
  },
  {
   "cell_type": "code",
   "execution_count": null,
   "metadata": {},
   "outputs": [],
   "source": [
    "### YOUR CODE HERE"
   ]
  },
  {
   "cell_type": "markdown",
   "metadata": {},
   "source": [
    "### Định thức <a class=\"anchor\" id=\"c13\"></a>"
   ]
  },
  {
   "cell_type": "code",
   "execution_count": 25,
   "metadata": {},
   "outputs": [],
   "source": [
    "A_list = [[0, 1, 2],\n",
    "          [3, 5, 5],\n",
    "          [5, 7, 5]]\n",
    "\n",
    "A_np = np.array(A_list)"
   ]
  },
  {
   "cell_type": "markdown",
   "metadata": {},
   "source": [
    "#### Trên `A_list`"
   ]
  },
  {
   "cell_type": "code",
   "execution_count": 26,
   "metadata": {},
   "outputs": [],
   "source": [
    "def create_submatrix(A, i_row, i_col):\n",
    "    sub_A = A[:] # Tạo ra ma trận mới giống A (clone A)\n",
    "    \n",
    "    # Bỏ dòng\n",
    "    sub_A = sub_A[:i_row] + sub_A[i_row+1:]\n",
    "    \n",
    "    # Bỏ cột\n",
    "    n_row_sub = len(sub_A)\n",
    "    for i in range(n_row_sub): \n",
    "        sub_A[i] = sub_A[i][:i_col] + sub_A[i][i_col+1:]\n",
    "        \n",
    "    return sub_A\n",
    "\n",
    "\n",
    "# Dành cho ma trận vuông\n",
    "def calc_determinant(A):\n",
    "    # Trường hợp cơ bản, định thức của ma trận 1x1\n",
    "    if len(A) == 1 and len(A[0]) == 1:\n",
    "        return A[0][0]\n",
    "    \n",
    "    total = 0\n",
    " \n",
    "    # Duyệt qua từng cột để loại bỏ\n",
    "    for i_col in range(len(A[0])):\n",
    "        sub_A = create_submatrix(A, 0, i_col)\n",
    " \n",
    "        # Tìm dấu\n",
    "        sign = (-1) ** (i_col % 2)\n",
    "        \n",
    "        # Gọi đệ quy cho các ma trận con\n",
    "        sub_det = calc_determinant(sub_A)\n",
    "        \n",
    "        # Cộng dồn định thức khi bỏ cột i_col\n",
    "        total += sign * A[0][i_col] * sub_det \n",
    " \n",
    "    return total"
   ]
  },
  {
   "cell_type": "code",
   "execution_count": 27,
   "metadata": {},
   "outputs": [
    {
     "data": {
      "text/plain": [
       "2"
      ]
     },
     "execution_count": 27,
     "metadata": {},
     "output_type": "execute_result"
    }
   ],
   "source": [
    "calc_determinant(A_list)"
   ]
  },
  {
   "cell_type": "markdown",
   "metadata": {},
   "source": [
    "#### Trên `A_np` "
   ]
  },
  {
   "cell_type": "code",
   "execution_count": 28,
   "metadata": {},
   "outputs": [
    {
     "data": {
      "text/plain": [
       "2.0000000000000036"
      ]
     },
     "execution_count": 28,
     "metadata": {},
     "output_type": "execute_result"
    }
   ],
   "source": [
    "np.linalg.det(A_np)"
   ]
  },
  {
   "cell_type": "markdown",
   "metadata": {},
   "source": [
    "### Nghịch đảo ma trận <a class=\"anchor\" id=\"c14\"></a>"
   ]
  },
  {
   "cell_type": "markdown",
   "metadata": {},
   "source": [
    "#### Trên `A_list` "
   ]
  },
  {
   "cell_type": "code",
   "execution_count": 29,
   "metadata": {},
   "outputs": [],
   "source": [
    "def transpose(A):\n",
    "    return list(map(list, zip(*A)))\n",
    "\n",
    "# Cho ma trận vuông\n",
    "def invert_matrix(A):\n",
    "    n_row = len(A)\n",
    "    n_col = len(A[0])\n",
    "    \n",
    "    # Nếu ma trận không vuông\n",
    "    if n_row != n_col:\n",
    "        raise ValueError('Not a square matrix')\n",
    "        return None\n",
    "    \n",
    "    # Tính định thức cho ma trận\n",
    "    det_A = calc_determinant(A)\n",
    "    \n",
    "    # Trả về None khi ma trận không khả nghịch\n",
    "    if det_A == 0:\n",
    "        raise ValueError('Matrix irreversible')\n",
    "        return None\n",
    "    \n",
    "    # Xử lý trường hợp ma trận cấp 1\n",
    "    if n_row == 1 and n_col == 1:\n",
    "        return 1/det_A\n",
    "    \n",
    "    # Tạo ma trận kết quả\n",
    "    A_res = [[0 for _ in range(n_col)] for _ in range(n_row)]\n",
    "    \n",
    "    # A_res = adj(A)/det_A -----------------------------------------------------------------\n",
    "    # B1: Chuyển vị ma trận gốc\n",
    "    A_trans = transpose(A)\n",
    "    \n",
    "    # B2: Tính adj(A) đồng thời gán kết quả vào A_res\n",
    "    for i_row in range(n_row):\n",
    "        for i_col in range(n_col):\n",
    "            # Tạo ra các ma trận con\n",
    "            sub_A = create_submatrix(A_trans, i_row, i_col)\n",
    " \n",
    "            # Tìm dấu\n",
    "            sign = (-1) ** (i_row + i_col)\n",
    "            \n",
    "            A_res[i_row][i_col] = sign * calc_determinant(sub_A)\n",
    " \n",
    "    # B3: Chia định thức\n",
    "    A_res = multiply_scalar_matrix(1/det_A, A_res)\n",
    "    \n",
    "    return A_res"
   ]
  },
  {
   "cell_type": "code",
   "execution_count": 30,
   "metadata": {},
   "outputs": [
    {
     "name": "stdout",
     "output_type": "stream",
     "text": [
      "[[-5.0  4.5 -2.5]\n",
      " [ 5.0 -5.0  3.0]\n",
      " [-2.0  2.5 -1.5]]\n"
     ]
    }
   ],
   "source": [
    "my_print(invert_matrix(A_list))"
   ]
  },
  {
   "cell_type": "markdown",
   "metadata": {},
   "source": [
    "#### Trên `A_np` "
   ]
  },
  {
   "cell_type": "code",
   "execution_count": 31,
   "metadata": {},
   "outputs": [
    {
     "name": "stdout",
     "output_type": "stream",
     "text": [
      "[[-5.   4.5 -2.5]\n",
      " [ 5.  -5.   3. ]\n",
      " [-2.   2.5 -1.5]]\n"
     ]
    }
   ],
   "source": [
    "print(np.linalg.inv(A_np))"
   ]
  },
  {
   "cell_type": "markdown",
   "metadata": {},
   "source": [
    "Sau phần thực hành này, hy vọng các bạn sẽ thấy được sự hữu ích khi tận dụng các thư viện của Python ;-)"
   ]
  },
  {
   "cell_type": "markdown",
   "metadata": {},
   "source": [
    "---"
   ]
  },
  {
   "cell_type": "markdown",
   "metadata": {},
   "source": [
    "## Đồ án 1 <a class=\"anchor\" id=\"c2\"></a>"
   ]
  },
  {
   "cell_type": "markdown",
   "metadata": {},
   "source": [
    "### Nội dung đồ án <a class=\"anchor\" id=\"c21\"></a>"
   ]
  },
  {
   "cell_type": "markdown",
   "metadata": {},
   "source": [
    "#### Giới thiệu"
   ]
  },
  {
   "cell_type": "markdown",
   "metadata": {},
   "source": [
    "Trong phần thực hiện, bạn đã được hướng dẫn cài đặt hàm tính định thức của ma trận vuông với phương pháp sử dụng phần bù đại số. Ngoài phương pháp phần bù đại số còn có một số phương pháp khác được sử dụng:\n",
    "- [Sử dụng công thức Leibniz](https://en.wikipedia.org/wiki/Leibniz_formula_for_determinants)\n",
    "- Sử dụng các phép biến đổi sơ cấp trên dòng\n",
    "- ...\n",
    "\n",
    "Tương tự, ngoài phương pháp sử dụng định thức con và phần bù đại số như đươc hướng dẫn, để tìm nghịch đảo cho ma trận vuông ta cũng có thể sử dụng các phép biến đổi sơ cấp trên dòng (phương pháp Gauss-Jordan)."
   ]
  },
  {
   "cell_type": "markdown",
   "metadata": {},
   "source": [
    "#### Yêu cầu"
   ]
  },
  {
   "cell_type": "markdown",
   "metadata": {},
   "source": [
    "Trong đồ án này, bạn được yêu cầu thực hiện các yêu cầu sau:\n",
    "\n",
    "1. **Tìm hiểu** và **viết báo cáo** về phương pháp sử dụng các biến đổi sơ cấp trên dòng để tính định thức và tìm nghịch đảo (nếu có) của ma trận vuông (2 điểm).\n",
    "\n",
    "2. Sử dụng ngôn ngữ Python để **cài đặt THỦ CÔNG** các hàm sau:\n",
    "\n",
    "    a. Hàm cho phép đọc ma trận từ file `input.txt`: `read_file(file_name_in)` (1 điểm). Ví dụ file `input.txt`:\n",
    "        \n",
    "        0\t1\t2\n",
    "        3\t5\t5\n",
    "        5\t7\t5\n",
    "        \n",
    "    b. Hàm cho phép ghi nội định thức và ma trận nghịch đảo ra file `MSSV_output.txt` (1 điểm): `write_file(file_name_out, determinant, inverse_matrix)`. Trong đó, `MSSV` được thay thành mã số sinh viên của bạn. Ví dụ file `MSSV_output.txt`:\n",
    "        \n",
    "        Det: 2\n",
    "        \n",
    "        Inverse matrix:\n",
    "        -5.0  4.5 -2.5\n",
    "         5.0 -5.0  3.0\n",
    "        -2.0  2.5 -1.5\n",
    "\n",
    "    c. Hàm tính định thức của ma trận vuông sử dụng các phép biến đổi sơ cấp trên dòng: `calc_determinant_row_operation(matrix)` (3 diểm)\n",
    "    \n",
    "    d. Hàm tìm nghịch đảo của ma trận vuông sử dụng các phép biến đổi sơ cấp trên dòng: `invert_matrix_row_operation(matrix)`. Hàm trả về `None` nếu ma trận không khả nghịch. (3 điểm)\n",
    "\n",
    "\n",
    "Bên cạnh các hàm được yêu cầu cài đặt, bạn có thể có thể cài đặt thêm một số hàm phụ trợ (nếu có)."
   ]
  },
  {
   "cell_type": "markdown",
   "metadata": {},
   "source": [
    "#### Gợi ý cách tổ chức mã nguồn"
   ]
  },
  {
   "cell_type": "code",
   "execution_count": null,
   "metadata": {},
   "outputs": [],
   "source": [
    "def read_file(file_name_in):\n",
    "    '''\n",
    "    Read matrix from file\n",
    "    \n",
    "    Inputs:\n",
    "        file_name_in : str\n",
    "            The name of input file\n",
    "            \n",
    "    Outputs:\n",
    "        marix : list (of list)\n",
    "            Matrix which is read from file\n",
    "    '''\n",
    "    \n",
    "    # YOUR CODE HERE\n",
    "    \n",
    "    \n",
    "def write_file(file_name_out, determinant, inverse_matrix):\n",
    "    '''\n",
    "    Write determinant and inversed matrix into file\n",
    "    \n",
    "    Inputs:\n",
    "        file_name_out : str\n",
    "            The name of output file\n",
    "            \n",
    "        determinant : int or float\n",
    "            The determinant of matrix read from input file\n",
    "        \n",
    "        inversed_matrix : list (of list)\n",
    "            The inverse of matrix read from input file\n",
    "    '''\n",
    "    \n",
    "    # YOUR CODE HERE\n",
    "    \n",
    "    \n",
    "# YOUR OTHER FUNCTIONS\n",
    "    \n",
    "    \n",
    "def calc_determinant_row_operation(matrix):\n",
    "    '''\n",
    "    Calculate determinant of input matrix\n",
    "    \n",
    "    Inputs:\n",
    "        marix : list (of list)\n",
    "            Matrix which is read from file\n",
    "            \n",
    "    Outputs:\n",
    "        determinant : int or float\n",
    "            The determinant of input matrix\n",
    "    '''\n",
    "    \n",
    "    # YOUR CODE HERE\n",
    "    \n",
    "    \n",
    "def invert_matrix_row_operation(matrix):\n",
    "    '''\n",
    "    Invert a matrix\n",
    "    \n",
    "    Inputs:\n",
    "        marix : list (of list)\n",
    "            Matrix which is read from file\n",
    "            \n",
    "    Outputs:\n",
    "        inverse_matrix : list (of list) or None\n",
    "            The inverse of input matrix\n",
    "            `None` when the input matrix is not invertible\n",
    "    '''\n",
    "    \n",
    "    # YOUR CODE HERE\n",
    "\n",
    "\n",
    "def main():\n",
    "    matrix = read_file(file_name_in='input.txt')\n",
    "    \n",
    "    det = calc_determinant_row_operation(matrix)\n",
    "    inv_mat = invert_matrix_row_operation(matrix)\n",
    "    \n",
    "    write_file(file_name_out='MSSV_output.txt', determinant=det, inverse_matrix=inv_mat)"
   ]
  },
  {
   "cell_type": "markdown",
   "metadata": {},
   "source": [
    "<font style=\"color:red\">*Lưu ý: Sinh viên **KHÔNG ĐƯỢC SỬ DỤNG** bất kỳ thư viện đại số tuyến tính nào (ví dụ `numpy.linalg`, `scipy.linalg`, `sympy.matrices`,..)* </font>"
   ]
  },
  {
   "cell_type": "markdown",
   "metadata": {},
   "source": [
    "### Quy định bài nộp <a class=\"anchor\" id=\"c22\"></a>"
   ]
  },
  {
   "cell_type": "markdown",
   "metadata": {},
   "source": [
    "* Thực hiện toàn bộ bài làm trên 1 tập tin Jupyter Notebook (.ipynb) hoặc Python (.py)\n",
    "\n",
    "\n",
    "* Bạn nộp tập tin `MSSV.zip` được nén từ thư mục MSSV chứa các tập tin sau:\n",
    "    1. Báo cáo toàn bộ bài làm: `MSSV.pdf`\n",
    "    2. Mã nguồn: `MSSV.ipynb` hoặc `MSSV.py`\n",
    "\n",
    "\n",
    "* Trong đó, nội dung tập tin báo cáo gồm có:\n",
    "    - Thông tin cá nhân: họ và tên, MSSV\n",
    "    - Nội dung phần tìm hiểu về phương pháp tính định thức và tìm ma trận nghịch đảo sử dụng các phép biến đổi sơ cấp trên dòng\n",
    "    - Ý tưởng cài đặt hàm `calc_determinant_row_operation(matrix)` và `invert_matrix_row_operation(matrix)`\n",
    "    \n",
    "    \n",
    "* Ví dụ minh họa cây thư mục bài nộp sau khi giải nén tập tin `MSSV.zip` như sau:\n",
    "```\n",
    "MSSV\n",
    "├── MSSV.pdf\n",
    "└── MSSV.py hoặc MSSV.ipynb\n",
    "```"
   ]
  },
  {
   "cell_type": "markdown",
   "metadata": {},
   "source": [
    "### Quy định chấm bài <a class=\"anchor\" id=\"c23\"></a>"
   ]
  },
  {
   "cell_type": "markdown",
   "metadata": {},
   "source": [
    "Những trường hợp sau đây sẽ bị 0 điểm toàn bộ đồ án:\n",
    "* Nộp sai quy định\n",
    "* Không có báo cáo\n",
    "* Thực thi mã nguồn báo lỗi\n",
    "\n",
    "<font style=\"color:red\">**LƯU Ý: SAO CHÉP BÀI LÀM CỦA NHAU SẼ BỊ 0 ĐIỂM TOÀN BỘ PHẦN THỰC HÀNH**</font>"
   ]
  }
 ],
 "metadata": {
  "interpreter": {
   "hash": "282bba20ad16fdc7a0e5d586b803d8fc7d6c4504f8dc32010e798551d5c647c4"
  },
  "kernelspec": {
   "display_name": "Python 3",
   "language": "python",
   "name": "python3"
  },
  "language_info": {
   "codemirror_mode": {
    "name": "ipython",
    "version": 3
   },
   "file_extension": ".py",
   "mimetype": "text/x-python",
   "name": "python",
   "nbconvert_exporter": "python",
   "pygments_lexer": "ipython3",
   "version": "3.8.5"
  }
 },
 "nbformat": 4,
 "nbformat_minor": 4
}
